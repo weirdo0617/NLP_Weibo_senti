{
 "cells": [
  {
   "cell_type": "code",
   "execution_count": 2,
   "metadata": {
    "ExecuteTime": {
     "end_time": "2022-05-05T11:43:00.323415Z",
     "start_time": "2022-05-05T11:42:44.008394Z"
    }
   },
   "outputs": [],
   "source": [
    "#导入所需要的模块\n",
    "import numpy as np\n",
    "import pandas as pd\n",
    "import matplotlib.pyplot as plt\n",
    "import seaborn as sns\n",
    "\n",
    "#输出显示中文\n",
    "from matplotlib.font_manager import FontProperties\n",
    "fonts = FontProperties(fname = \"C:\\Windows\\Fonts\\simkai.ttf\")\n",
    "\n",
    "import re\n",
    "import string\n",
    "import copy\n",
    "import time\n",
    "from sklearn.metrics import accuracy_score,f1_score,confusion_matrix\n",
    "\n",
    "\n",
    "import torch\n",
    "import torch.nn as nn\n",
    "import torch.nn.functional as F\n",
    "import torch.optim as optim\n",
    "import torch.utils.data as DataFrame\n",
    "\n",
    "#处理文本\n",
    "from torchtext import data\n",
    "from torchtext.legacy import data\n",
    "from torchtext.vocab import Vectors\n",
    "\n",
    "#数据可视化\n",
    "import torchvision\n",
    "import torchvision.transforms as transforms"
   ]
  },
  {
   "cell_type": "code",
   "execution_count": 7,
   "metadata": {
    "ExecuteTime": {
     "end_time": "2022-05-05T11:49:46.440684Z",
     "start_time": "2022-05-05T11:49:45.190529Z"
    }
   },
   "outputs": [],
   "source": [
    "#使用trochtext库进行数据准备\n",
    "#定义文件中对文本和标签所要做的操作\n",
    "\"\"\"\n",
    "sequential=True:表明输入的文本是字符，而不是数值\n",
    "tokenize=\"spacy\":使用spacy切分词语\n",
    "use_vocab=True:创建一个词汇表\n",
    "batch_first=True:batch优先的数据方式\n",
    "fix_length=40:每条评论固定长度为40\n",
    "\"\"\"\n",
    "\n",
    "#定义文本切分方法，因为前面已经做过处理，所以直接使用空格切分\n",
    "mytokenize = lambda x:x.split()\n",
    "labeltokenize = lambda x : [int(x[0])]\n",
    "\n",
    "TEXT = data.Field(sequential=True, tokenize=mytokenize,\n",
    "                    include_lengths=True, use_vocab=True,\n",
    "                    batch_first=True, fix_length=40)\n",
    "LABEL = data.Field(sequential=True, use_vocab=False,\n",
    "                    pad_token=None, unk_token=None,\n",
    "                    tokenize=labeltokenize)\n",
    "\n",
    "#对要读取的数据集的列进行处理\n",
    "text_data_fields = [\n",
    "    (\"label\", LABEL),  #对标签的操作\n",
    "    (\"cutword\", TEXT)  #对文本的操作\n",
    "    ]\n"
   ]
  },
  {
   "cell_type": "code",
   "execution_count": 8,
   "metadata": {},
   "outputs": [],
   "source": [
    "#读取数据\n",
    "traindata, valdata, testdata = data.TabularDataset.splits(\n",
    "    path=\"datasets\", format=\"csv\",\n",
    "    train=\"train_set.csv\",fields=text_data_fields,\n",
    "    validation=\"valid_set.csv\",\n",
    "    test=\"test_set.csv\", skip_header=True)"
   ]
  },
  {
   "cell_type": "code",
   "execution_count": 9,
   "metadata": {
    "ExecuteTime": {
     "end_time": "2022-05-05T11:49:47.698307Z",
     "start_time": "2022-05-05T11:49:47.675911Z"
    }
   },
   "outputs": [
    {
     "data": {
      "text/plain": [
       "(68192, 22732, 22730)"
      ]
     },
     "execution_count": 9,
     "metadata": {},
     "output_type": "execute_result"
    }
   ],
   "source": [
    "#查看训练集、验证集、测试集大小\n",
    "len(traindata),len(valdata),len(testdata)"
   ]
  },
  {
   "cell_type": "code",
   "execution_count": 10,
   "metadata": {
    "ExecuteTime": {
     "end_time": "2022-05-05T11:49:53.328776Z",
     "start_time": "2022-05-05T11:49:49.459533Z"
    }
   },
   "outputs": [],
   "source": [
    "#加载预训练的词向量和构建词汇表\n",
    "#Vectors导入预训练好的词向量文件\n",
    "vectors = Vectors(name='datasets/sgns.weibo.bigram-char')\n",
    "# 指定Vector缺失值的初始化方式，没有命中的token的初始化方式\n",
    "vectors.unk_init = nn.init.xavier_uniform_\n",
    "#使用训练集构建单词表，导入预训练的中文词向量\n",
    "TEXT.build_vocab(traindata, vectors=vectors)\n",
    "LABEL.build_vocab(traindata)"
   ]
  },
  {
   "cell_type": "code",
   "execution_count": 11,
   "metadata": {
    "ExecuteTime": {
     "end_time": "2022-05-05T11:49:58.661231Z",
     "start_time": "2022-05-05T11:49:58.632927Z"
    }
   },
   "outputs": [],
   "source": [
    "#定义一个迭代器，将类似长度的示例一起批处理\n",
    "BATCH_SIZE = 128\n",
    "train_iter = data.BucketIterator(traindata, batch_size=BATCH_SIZE)\n",
    "val_iter = data.BucketIterator(valdata, batch_size=BATCH_SIZE)\n",
    "test_iter = data.BucketIterator(testdata, batch_size=BATCH_SIZE)"
   ]
  },
  {
   "cell_type": "code",
   "execution_count": 12,
   "metadata": {
    "ExecuteTime": {
     "end_time": "2022-05-05T11:50:01.977470Z",
     "start_time": "2022-05-05T11:50:01.760704Z"
    }
   },
   "outputs": [],
   "source": [
    "#获得一个batch的数据，对数据进行内容介绍\n",
    "for step, batch in enumerate(train_iter):\n",
    "    textdata, target = batch.cutword[0], batch.label.view(-1)\n",
    "    if step > 0:\n",
    "        break"
   ]
  },
  {
   "cell_type": "code",
   "execution_count": 13,
   "metadata": {
    "ExecuteTime": {
     "end_time": "2022-05-05T11:50:03.960012Z",
     "start_time": "2022-05-05T11:50:03.929063Z"
    }
   },
   "outputs": [
    {
     "name": "stdout",
     "output_type": "stream",
     "text": [
      "torch.Size([128, 40])\n",
      "torch.Size([128])\n"
     ]
    }
   ],
   "source": [
    "print(textdata.shape)\n",
    "print(target.shape)"
   ]
  },
  {
   "cell_type": "code",
   "execution_count": 14,
   "metadata": {
    "ExecuteTime": {
     "end_time": "2022-05-05T11:52:01.675508Z",
     "start_time": "2022-05-05T11:52:01.646606Z"
    }
   },
   "outputs": [],
   "source": [
    "#定义GRU网络模型\n",
    "class BiGRUNet(nn.Module):\n",
    "    #模型初始化函数\n",
    "    def __init__(self, vocab_size, embedding_dim, hidden_size, num_layers, num_classes):\n",
    "        '''\n",
    "        vocab_size:词典长度\n",
    "        embedding_dim:词向量维度\n",
    "        hidden_size:隐藏神经元个数\n",
    "        num_layers:隐藏层层数\n",
    "        num_classes:隐藏层输出的维度（分类数量）\n",
    "        '''\n",
    "        super(BiGRUNet,self).__init__()\n",
    "        self.hidden_size = hidden_size #GRU神经元个数\n",
    "        self.num_layers = num_layers  #GRU的层数\n",
    "        #对文本进行词向量处理\n",
    "        self.embedding = nn.Embedding(vocab_size, embedding_dim)\n",
    "        #GRU层\n",
    "        self.gru = nn.GRU(embedding_dim, hidden_size, num_layers,\n",
    "                          bidirectional=True, batch_first=True, dropout=0.5)\n",
    "        #全连接Dropout层\n",
    "        self.fc = nn.Sequential(\n",
    "            nn.Linear(hidden_size*2, hidden_size),\n",
    "            nn.Dropout(0.5),\n",
    "            nn.ReLU(),\n",
    "            nn.Linear(hidden_size, num_classes)\n",
    "            \n",
    "        \n",
    "        )\n",
    "    #前向传播函数          \n",
    "    def forward(self,x):\n",
    "        embeds = self.embedding(x)\n",
    "        #GRU实例有两个返回结果r_out和h_state\n",
    "        #r_out：每个时间步的输出值(h_t,c_t)\n",
    "        #h_state：最后一个时间步Hidden State和Cell State组成的二维Tuple(h_n,c_n)\n",
    "        #h_n和c_n都初始化为形状为[num_layers*num_directions,batch,hidden_size]的Zero Tensor\n",
    "        r_out, h_state = self.gru(embeds, None)\n",
    "        #选取最后一个时间步的输出out\n",
    "        out = self.fc(r_out[:,-1,:])\n",
    "        return out"
   ]
  },
  {
   "cell_type": "code",
   "execution_count": 15,
   "metadata": {
    "ExecuteTime": {
     "end_time": "2022-05-05T11:52:02.941176Z",
     "start_time": "2022-05-05T11:52:02.931477Z"
    }
   },
   "outputs": [],
   "source": [
    "#初始化网络\n",
    "vocab_size = len(TEXT.vocab) #词表大小\n",
    "embedding_dim = vectors.dim #词向量维度\n",
    "hidden_size = 128 \n",
    "num_layers = 2\n",
    "num_classes = 2 "
   ]
  },
  {
   "cell_type": "code",
   "execution_count": 16,
   "metadata": {
    "ExecuteTime": {
     "end_time": "2022-05-05T11:52:03.915793Z",
     "start_time": "2022-05-05T11:52:03.614847Z"
    }
   },
   "outputs": [
    {
     "data": {
      "text/plain": [
       "BiGRUNet(\n",
       "  (embedding): Embedding(100450, 300)\n",
       "  (gru): GRU(300, 128, num_layers=2, batch_first=True, dropout=0.5, bidirectional=True)\n",
       "  (fc): Sequential(\n",
       "    (0): Linear(in_features=256, out_features=128, bias=True)\n",
       "    (1): Dropout(p=0.5, inplace=False)\n",
       "    (2): ReLU()\n",
       "    (3): Linear(in_features=128, out_features=2, bias=True)\n",
       "  )\n",
       ")"
      ]
     },
     "execution_count": 16,
     "metadata": {},
     "output_type": "execute_result"
    }
   ],
   "source": [
    "#创建模型  \n",
    "bigru_model = BiGRUNet(vocab_size, embedding_dim, hidden_size, num_layers, num_classes)\n",
    "bigru_model"
   ]
  },
  {
   "cell_type": "code",
   "execution_count": 17,
   "metadata": {
    "ExecuteTime": {
     "end_time": "2022-04-27T03:00:51.832764Z",
     "start_time": "2022-04-27T03:00:51.490916Z"
    }
   },
   "outputs": [
    {
     "data": {
      "text/plain": [
       "tensor([[-0.0774, -0.1138, -0.0789,  ...,  0.0934,  0.0380,  0.0385],\n",
       "        [-0.1236,  0.0375, -0.0504,  ...,  0.0386, -0.0015, -0.0173],\n",
       "        [ 0.6539,  0.7563,  0.6598,  ...,  0.0087, -0.1006,  0.6101],\n",
       "        ...,\n",
       "        [ 0.3087,  0.1839,  0.1465,  ..., -0.3507,  0.1528, -0.3567],\n",
       "        [-0.1111, -0.0252, -0.1244,  ...,  0.0103,  0.0020,  0.1102],\n",
       "        [ 0.0941,  0.3078,  0.0232,  ..., -0.4266,  0.2949,  0.2510]])"
      ]
     },
     "execution_count": 17,
     "metadata": {},
     "output_type": "execute_result"
    }
   ],
   "source": [
    "#将导入的词向量作为embedding.weight的初始值\n",
    "bigru_model.embedding.weight.data.copy_(TEXT.vocab.vectors)"
   ]
  },
  {
   "cell_type": "code",
   "execution_count": 18,
   "metadata": {
    "ExecuteTime": {
     "end_time": "2022-04-27T02:31:46.699223Z",
     "start_time": "2022-04-27T02:31:46.663446Z"
    }
   },
   "outputs": [],
   "source": [
    "#定义网络的训练过程函数\n",
    "def train(model, train_loader, val_loader, criterion,\n",
    "          optimizer, num_epochs):\n",
    "    '''\n",
    "    model:网络模型;\n",
    "    train_loader:训练集加载;\n",
    "    val_loader:验证集加载;\n",
    "    criterion:损失函数;\n",
    "    optimizer:优化方法\n",
    "    num_epochs:训练的轮数（迭代次数）\n",
    "    '''\n",
    "    train_loss_all = []\n",
    "    train_acc_all = []\n",
    "    val_loss_all = []\n",
    "    val_acc_all = []\n",
    "    learn_rate = []\n",
    "    start_time = time.time()\n",
    "    print('stat_time：',start_time)\n",
    "    #设置等间隔调整学习率，每隔step_size个epoch，学习率缩小1/10\n",
    "    scheduler = optim.lr_scheduler.StepLR(optimizer, step_size=5,gamma=0.1)\n",
    "    for epoch in range(num_epochs):\n",
    "        learn_rate.append(scheduler.get_last_lr()[0])\n",
    "        print('-' * 20)\n",
    "        print('Epoch：{}/{}, LR：{}'.format(epoch, num_epochs-1, learn_rate[-1]))\n",
    "        #每个epoch有两个阶段，训练阶段和验证阶段\n",
    "        train_loss = 0.0\n",
    "        train_corrects = 0\n",
    "        train_num = 0\n",
    "        val_loss = 0.0\n",
    "        val_corrects = 0\n",
    "        val_num = 0\n",
    "        model.train() #设置模型为训练模式\n",
    "        for step, batch in enumerate(train_loader):\n",
    "            textdata, target = batch.cutword[0],batch.label.view(-1)\n",
    "            out = model(textdata)\n",
    "            pre_lab = torch.argmax(out,1) #预测的标签\n",
    "            loss = criterion(out, target) #计算损失函数值\n",
    "            optimizer.zero_grad()\n",
    "            loss.backward()\n",
    "            optimizer.step()\n",
    "            train_loss += loss.item() * len(target)\n",
    "            train_corrects += torch.sum(pre_lab == target.data)\n",
    "            train_num += len(target)\n",
    "        #计算一个epoch在训练集上的损失和精度\n",
    "        train_loss_all.append(train_loss / train_num)\n",
    "        train_acc_all.append(train_corrects.double().item() / train_num)\n",
    "        print('{} Train Loss：{:.4f} Train Acc：{:.4f}'.format(\n",
    "            epoch, train_loss_all[-1], train_acc_all[-1]))\n",
    "        scheduler.step() #更新学习率\n",
    "        \n",
    "        #计算一个epoch的训练后在验证集上的损失和精度\n",
    "        model.eval() #设置模型为评估模式\n",
    "        for step, batch in enumerate(val_loader):\n",
    "            textdata, target = batch.cutword[0], batch.label.view(-1)\n",
    "            out = model(textdata)\n",
    "            pre_lab = torch.argmax(out,1) #预测的标签\n",
    "            loss = criterion(out, target) #计算损失函数\n",
    "            optimizer.zero_grad()\n",
    "            loss.backward()\n",
    "            optimizer.step()\n",
    "            val_loss += loss.item() * len(target)\n",
    "            val_corrects += torch.sum(pre_lab == target.data)\n",
    "            val_num += len(target)\n",
    "        \n",
    "        #计算一个epoch在验证集上的损失和精度\n",
    "        val_loss_all.append(val_loss / val_num)\n",
    "        val_acc_all.append(val_corrects.double().item() / val_num)\n",
    "        print('{} Val Loss：{:.4f} Val Acc：{:.4f}'.format(\n",
    "            epoch, val_loss_all[-1], val_acc_all[-1]))\n",
    "    \n",
    "    end_time = time.time()\n",
    "    print('end_time：',end_time)\n",
    "    \n",
    "    train_process = pd.DataFrame(\n",
    "        data = {\"epoch\":range(num_epochs),\n",
    "                \"train_loss_all\":train_loss_all,\n",
    "                \"train_acc_all\":train_acc_all,\n",
    "                \"val_loss_all\":val_loss_all,\n",
    "                \"val_acc_all\":val_acc_all,\n",
    "                \"learn_rate\":learn_rate})\n",
    "    return model, train_process"
   ]
  },
  {
   "cell_type": "code",
   "execution_count": 19,
   "metadata": {
    "ExecuteTime": {
     "end_time": "2022-04-27T02:31:49.801632Z",
     "start_time": "2022-04-27T02:31:49.794112Z"
    }
   },
   "outputs": [],
   "source": [
    "#定义优化器\n",
    "optimizer = optim.Adam(bigru_model.parameters(), lr=0.003) #优化器,lr:学习率为0.003\n",
    "loss_func = nn.CrossEntropyLoss() #交叉熵作为损失函数\n",
    "num_epochs = 10 #训练的轮数（迭代次数）"
   ]
  },
  {
   "cell_type": "code",
   "execution_count": 15,
   "metadata": {
    "ExecuteTime": {
     "end_time": "2022-04-27T02:58:43.908102Z",
     "start_time": "2022-04-27T02:32:02.488834Z"
    }
   },
   "outputs": [
    {
     "name": "stdout",
     "output_type": "stream",
     "text": [
      "stat_time： 1673686675.4578972\n",
      "--------------------\n",
      "Epoch：0/9, LR：0.003\n",
      "0 Train Loss：0.5973 Train Acc：0.6545\n",
      "0 Val Loss：0.5235 Val Acc：0.7366\n",
      "--------------------\n",
      "Epoch：1/9, LR：0.003\n",
      "1 Train Loss：0.4168 Train Acc：0.8171\n",
      "1 Val Loss：0.4031 Val Acc：0.8121\n",
      "--------------------\n",
      "Epoch：2/9, LR：0.003\n",
      "2 Train Loss：0.2311 Train Acc：0.9031\n",
      "2 Val Loss：0.2559 Val Acc：0.8886\n",
      "--------------------\n",
      "Epoch：3/9, LR：0.003\n",
      "3 Train Loss：0.1414 Train Acc：0.9392\n",
      "3 Val Loss：0.1495 Val Acc：0.9350\n",
      "--------------------\n",
      "Epoch：4/9, LR：0.003\n",
      "4 Train Loss：0.1020 Train Acc：0.9541\n",
      "4 Val Loss：0.1293 Val Acc：0.9450\n",
      "--------------------\n",
      "Epoch：5/9, LR：0.00030000000000000003\n",
      "5 Train Loss：0.0624 Train Acc：0.9719\n",
      "5 Val Loss：0.0832 Val Acc：0.9634\n",
      "--------------------\n",
      "Epoch：6/9, LR：0.00030000000000000003\n",
      "6 Train Loss：0.0550 Train Acc：0.9754\n",
      "6 Val Loss：0.0642 Val Acc：0.9713\n",
      "--------------------\n",
      "Epoch：7/9, LR：0.00030000000000000003\n",
      "7 Train Loss：0.0488 Train Acc：0.9776\n",
      "7 Val Loss：0.0533 Val Acc：0.9758\n",
      "--------------------\n",
      "Epoch：8/9, LR：0.00030000000000000003\n",
      "8 Train Loss：0.0438 Train Acc：0.9795\n",
      "8 Val Loss：0.0458 Val Acc：0.9794\n",
      "--------------------\n",
      "Epoch：9/9, LR：0.00030000000000000003\n",
      "9 Train Loss：0.0409 Train Acc：0.9814\n",
      "9 Val Loss：0.0455 Val Acc：0.9807\n",
      "end_time： 1673693901.6105404\n"
     ]
    }
   ],
   "source": [
    "#对模型进行迭代训练\n",
    "bigru_model, train_process = train(\n",
    "    bigru_model,train_iter, val_iter, loss_func, optimizer, num_epochs)"
   ]
  },
  {
   "cell_type": "code",
   "execution_count": 16,
   "metadata": {
    "ExecuteTime": {
     "end_time": "2022-04-27T03:07:19.370579Z",
     "start_time": "2022-04-27T03:07:18.906838Z"
    }
   },
   "outputs": [],
   "source": [
    "#输出结果保存和数据保存\n",
    "torch.save(bigru_model,\"model.pkl\")"
   ]
  },
  {
   "cell_type": "code",
   "execution_count": 20,
   "metadata": {},
   "outputs": [
    {
     "data": {
      "text/plain": [
       "BiGRUNet(\n",
       "  (embedding): Embedding(100450, 300)\n",
       "  (gru): GRU(300, 128, num_layers=2, batch_first=True, dropout=0.5, bidirectional=True)\n",
       "  (fc): Sequential(\n",
       "    (0): Linear(in_features=256, out_features=128, bias=True)\n",
       "    (1): Dropout(p=0.5, inplace=False)\n",
       "    (2): ReLU()\n",
       "    (3): Linear(in_features=128, out_features=2, bias=True)\n",
       "  )\n",
       ")"
      ]
     },
     "execution_count": 20,
     "metadata": {},
     "output_type": "execute_result"
    }
   ],
   "source": [
    "#导入保存的模型\n",
    "bigru_model = torch.load(\"model.pkl\")\n",
    "bigru_model"
   ]
  },
  {
   "cell_type": "code",
   "execution_count": 17,
   "metadata": {},
   "outputs": [],
   "source": [
    "#保存训练过程\n",
    "train_process.to_csv(\"bigru_train_process.csv\",index=False)"
   ]
  },
  {
   "cell_type": "code",
   "execution_count": 18,
   "metadata": {},
   "outputs": [
    {
     "data": {
      "text/html": [
       "<div>\n",
       "<style scoped>\n",
       "    .dataframe tbody tr th:only-of-type {\n",
       "        vertical-align: middle;\n",
       "    }\n",
       "\n",
       "    .dataframe tbody tr th {\n",
       "        vertical-align: top;\n",
       "    }\n",
       "\n",
       "    .dataframe thead th {\n",
       "        text-align: right;\n",
       "    }\n",
       "</style>\n",
       "<table border=\"1\" class=\"dataframe\">\n",
       "  <thead>\n",
       "    <tr style=\"text-align: right;\">\n",
       "      <th></th>\n",
       "      <th>epoch</th>\n",
       "      <th>train_loss_all</th>\n",
       "      <th>train_acc_all</th>\n",
       "      <th>val_loss_all</th>\n",
       "      <th>val_acc_all</th>\n",
       "      <th>learn_rate</th>\n",
       "    </tr>\n",
       "  </thead>\n",
       "  <tbody>\n",
       "    <tr>\n",
       "      <th>0</th>\n",
       "      <td>0</td>\n",
       "      <td>0.597311</td>\n",
       "      <td>0.654549</td>\n",
       "      <td>0.523494</td>\n",
       "      <td>0.736583</td>\n",
       "      <td>0.0030</td>\n",
       "    </tr>\n",
       "    <tr>\n",
       "      <th>1</th>\n",
       "      <td>1</td>\n",
       "      <td>0.416790</td>\n",
       "      <td>0.817134</td>\n",
       "      <td>0.403114</td>\n",
       "      <td>0.812071</td>\n",
       "      <td>0.0030</td>\n",
       "    </tr>\n",
       "    <tr>\n",
       "      <th>2</th>\n",
       "      <td>2</td>\n",
       "      <td>0.231105</td>\n",
       "      <td>0.903112</td>\n",
       "      <td>0.255949</td>\n",
       "      <td>0.888615</td>\n",
       "      <td>0.0030</td>\n",
       "    </tr>\n",
       "    <tr>\n",
       "      <th>3</th>\n",
       "      <td>3</td>\n",
       "      <td>0.141432</td>\n",
       "      <td>0.939245</td>\n",
       "      <td>0.149532</td>\n",
       "      <td>0.934982</td>\n",
       "      <td>0.0030</td>\n",
       "    </tr>\n",
       "    <tr>\n",
       "      <th>4</th>\n",
       "      <td>4</td>\n",
       "      <td>0.101989</td>\n",
       "      <td>0.954071</td>\n",
       "      <td>0.129290</td>\n",
       "      <td>0.944967</td>\n",
       "      <td>0.0030</td>\n",
       "    </tr>\n",
       "    <tr>\n",
       "      <th>5</th>\n",
       "      <td>5</td>\n",
       "      <td>0.062353</td>\n",
       "      <td>0.971888</td>\n",
       "      <td>0.083244</td>\n",
       "      <td>0.963400</td>\n",
       "      <td>0.0003</td>\n",
       "    </tr>\n",
       "    <tr>\n",
       "      <th>6</th>\n",
       "      <td>6</td>\n",
       "      <td>0.055035</td>\n",
       "      <td>0.975422</td>\n",
       "      <td>0.064215</td>\n",
       "      <td>0.971274</td>\n",
       "      <td>0.0003</td>\n",
       "    </tr>\n",
       "    <tr>\n",
       "      <th>7</th>\n",
       "      <td>7</td>\n",
       "      <td>0.048784</td>\n",
       "      <td>0.977593</td>\n",
       "      <td>0.053329</td>\n",
       "      <td>0.975849</td>\n",
       "      <td>0.0003</td>\n",
       "    </tr>\n",
       "    <tr>\n",
       "      <th>8</th>\n",
       "      <td>8</td>\n",
       "      <td>0.043758</td>\n",
       "      <td>0.979514</td>\n",
       "      <td>0.045842</td>\n",
       "      <td>0.979412</td>\n",
       "      <td>0.0003</td>\n",
       "    </tr>\n",
       "    <tr>\n",
       "      <th>9</th>\n",
       "      <td>9</td>\n",
       "      <td>0.040878</td>\n",
       "      <td>0.981361</td>\n",
       "      <td>0.045545</td>\n",
       "      <td>0.980732</td>\n",
       "      <td>0.0003</td>\n",
       "    </tr>\n",
       "  </tbody>\n",
       "</table>\n",
       "</div>"
      ],
      "text/plain": [
       "   epoch  train_loss_all  train_acc_all  val_loss_all  val_acc_all  learn_rate\n",
       "0      0        0.597311       0.654549      0.523494     0.736583      0.0030\n",
       "1      1        0.416790       0.817134      0.403114     0.812071      0.0030\n",
       "2      2        0.231105       0.903112      0.255949     0.888615      0.0030\n",
       "3      3        0.141432       0.939245      0.149532     0.934982      0.0030\n",
       "4      4        0.101989       0.954071      0.129290     0.944967      0.0030\n",
       "5      5        0.062353       0.971888      0.083244     0.963400      0.0003\n",
       "6      6        0.055035       0.975422      0.064215     0.971274      0.0003\n",
       "7      7        0.048784       0.977593      0.053329     0.975849      0.0003\n",
       "8      8        0.043758       0.979514      0.045842     0.979412      0.0003\n",
       "9      9        0.040878       0.981361      0.045545     0.980732      0.0003"
      ]
     },
     "execution_count": 18,
     "metadata": {},
     "output_type": "execute_result"
    }
   ],
   "source": [
    "train_process = pd.read_csv(\"bigru_train_process.csv\")\n",
    "train_process"
   ]
  },
  {
   "cell_type": "code",
   "execution_count": 19,
   "metadata": {
    "ExecuteTime": {
     "end_time": "2022-04-27T03:07:27.038057Z",
     "start_time": "2022-04-27T03:07:26.052896Z"
    }
   },
   "outputs": [
    {
     "data": {
      "image/png": "[encoded data removed]",
      "text/plain": [
       "<Figure size 1800x600 with 2 Axes>"
      ]
     },
     "metadata": {},
     "output_type": "display_data"
    }
   ],
   "source": [
    "#可视化训练过程\n",
    "plt.figure(figsize = (18, 6))\n",
    "plt.subplot(1, 2, 1)\n",
    "plt.plot(train_process.epoch, train_process.train_loss_all,\n",
    "         \"r.-\", label = \"Train loss\")\n",
    "plt.plot(train_process.epoch, train_process.val_loss_all,\n",
    "         \"bs-\", label = \"Val loss\")\n",
    "plt.legend()\n",
    "plt.xlabel(\"Epoch number\", size = 13)\n",
    "plt.ylabel(\"Loss value\",size = 13)\n",
    "plt.subplot(1, 2, 2)\n",
    "plt.plot(train_process.epoch, train_process.train_acc_all,\n",
    "         \"r.-\", label = \"Train acc\")\n",
    "plt.plot(train_process.epoch, train_process.val_acc_all,\n",
    "         \"bs-\", label = \"Val acc\")\n",
    "plt.xlabel(\"Epoch number\", size = 13)\n",
    "plt.ylabel(\"Acc\",size = 13)\n",
    "plt.legend()\n",
    "plt.show()"
   ]
  },
  {
   "cell_type": "code",
   "execution_count": 21,
   "metadata": {
    "ExecuteTime": {
     "end_time": "2022-04-27T03:08:13.758829Z",
     "start_time": "2022-04-27T03:07:32.851487Z"
    }
   },
   "outputs": [
    {
     "name": "stdout",
     "output_type": "stream",
     "text": [
      "在测试集上的预测精度为： 0.6942366915970084\n"
     ]
    }
   ],
   "source": [
    "#对测试集进行预测并计算精度\n",
    "bigru_model.eval() #设置模型为评估模式\n",
    "test_y_all = torch.LongTensor()\n",
    "pre_lab_all = torch.LongTensor()\n",
    "for step, batch in enumerate(test_iter):\n",
    "    textdata, target = batch.cutword[0], batch.label.view(-1)\n",
    "    out = bigru_model(textdata)\n",
    "    pre_lab = torch.argmax(out, 1)\n",
    "    test_y_all = torch.cat((test_y_all, target)) #测试集的标签\n",
    "    pre_lab_all = torch.cat((pre_lab_all,pre_lab)) #测试集的预测标签\n",
    "    \n",
    "acc = accuracy_score(test_y_all, pre_lab_all)\n",
    "print(\"在测试集上的预测精度为：\", acc)"
   ]
  },
  {
   "cell_type": "code",
   "execution_count": 21,
   "metadata": {
    "ExecuteTime": {
     "end_time": "2022-03-01T01:10:37.873247Z",
     "start_time": "2022-03-01T01:10:37.701816Z"
    }
   },
   "outputs": [
    {
     "name": "stderr",
     "output_type": "stream",
     "text": [
      "D:\\Anaconda3\\envs\\pytorch\\lib\\site-packages\\seaborn\\utils.py:80: UserWarning: Glyph 36127 (\\N{CJK UNIFIED IDEOGRAPH-8D1F}) missing from current font.\n",
      "  fig.canvas.draw()\n",
      "D:\\Anaconda3\\envs\\pytorch\\lib\\site-packages\\seaborn\\utils.py:80: UserWarning: Glyph 21521 (\\N{CJK UNIFIED IDEOGRAPH-5411}) missing from current font.\n",
      "  fig.canvas.draw()\n",
      "D:\\Anaconda3\\envs\\pytorch\\lib\\site-packages\\seaborn\\utils.py:80: UserWarning: Glyph 27491 (\\N{CJK UNIFIED IDEOGRAPH-6B63}) missing from current font.\n",
      "  fig.canvas.draw()\n"
     ]
    },
    {
     "data": {
      "image/png": "[encoded data removed]",
      "text/plain": [
       "<Figure size 640x480 with 2 Axes>"
      ]
     },
     "metadata": {},
     "output_type": "display_data"
    }
   ],
   "source": [
    "#计算混淆矩阵并可视化\n",
    "class_label = [\"负向\", \"正向\"]\n",
    "conf_mat = confusion_matrix(test_y_all, pre_lab_all)\n",
    "df_cm = pd.DataFrame(conf_mat, index=class_label, columns=class_label)\n",
    "heatmap = sns.heatmap(df_cm, annot=True, fmt=\"d\", cmap=\"YlGnBu\")\n",
    "heatmap.yaxis.set_ticklabels(heatmap.yaxis.get_ticklabels(), rotation=0,\n",
    "                             ha='right', fontproperties=fonts)\n",
    "heatmap.xaxis.set_ticklabels(heatmap.yaxis.get_ticklabels(), rotation=45,\n",
    "                             ha='right', fontproperties=fonts)\n",
    "plt.ylabel('True label')\n",
    "plt.xlabel('Predicted label')\n",
    "plt.show()"
   ]
  }
 ],
 "metadata": {
  "kernelspec": {
   "display_name": "Python 3 (ipykernel)",
   "language": "python",
   "name": "python3"
  },
  "language_info": {
   "codemirror_mode": {
    "name": "ipython",
    "version": 3
   },
   "file_extension": ".py",
   "mimetype": "text/x-python",
   "name": "python",
   "nbconvert_exporter": "python",
   "pygments_lexer": "ipython3",
   "version": "3.9.15"
  }
 },
 "nbformat": 4,
 "nbformat_minor": 4
}
