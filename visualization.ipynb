{
 "cells": [
  {
   "cell_type": "code",
   "execution_count": 1,
   "id": "00de1015",
   "metadata": {},
   "outputs": [
    {
     "name": "stderr",
     "output_type": "stream",
     "text": [
      "D:\\Anaconda3\\envs\\pytorch\\lib\\site-packages\\tqdm\\auto.py:22: TqdmWarning: IProgress not found. Please update jupyter and ipywidgets. See https://ipywidgets.readthedocs.io/en/stable/user_install.html\n",
      "  from .autonotebook import tqdm as notebook_tqdm\n"
     ]
    }
   ],
   "source": [
    "#导入所需要的模块\n",
    "\n",
    "#防止matplotlib画图服务器挂掉\n",
    "import os\n",
    "os.environ[\"KMP_DUPLICATE_LIB_OK\"]=\"TRUE\"\n",
    "\n",
    "#处理数据集\n",
    "import numpy as np\n",
    "import pandas as pd\n",
    "\n",
    "#画图\n",
    "import matplotlib.pyplot as plt\n",
    "import seaborn as sns\n",
    "\n",
    "#输出显示中文\n",
    "from matplotlib.font_manager import FontProperties\n",
    "fonts = FontProperties(fname = \"C:\\Windows\\Fonts\\simkai.ttf\") #中文字体为楷体 常规\n",
    "\n",
    "#数据可视化\n",
    "import torchvision\n",
    "import torchvision.transforms as transforms"
   ]
  },
  {
   "cell_type": "code",
   "execution_count": 3,
   "id": "d52507c1",
   "metadata": {},
   "outputs": [],
   "source": [
    "#导入数据集\n",
    "df = pd.read_csv(\"datasets/label_cutword.csv\")"
   ]
  },
  {
   "cell_type": "code",
   "execution_count": 4,
   "id": "3eeb812f",
   "metadata": {},
   "outputs": [
    {
     "data": {
      "text/html": [
       "<div>\n",
       "<style scoped>\n",
       "    .dataframe tbody tr th:only-of-type {\n",
       "        vertical-align: middle;\n",
       "    }\n",
       "\n",
       "    .dataframe tbody tr th {\n",
       "        vertical-align: top;\n",
       "    }\n",
       "\n",
       "    .dataframe thead th {\n",
       "        text-align: right;\n",
       "    }\n",
       "</style>\n",
       "<table border=\"1\" class=\"dataframe\">\n",
       "  <thead>\n",
       "    <tr style=\"text-align: right;\">\n",
       "      <th></th>\n",
       "      <th>label</th>\n",
       "      <th>cutword</th>\n",
       "    </tr>\n",
       "  </thead>\n",
       "  <tbody>\n",
       "    <tr>\n",
       "      <th>0</th>\n",
       "      <td>1</td>\n",
       "      <td>更博 爆照 帅 越来越 爱 生快 傻 缺</td>\n",
       "    </tr>\n",
       "    <tr>\n",
       "      <th>1</th>\n",
       "      <td>1</td>\n",
       "      <td>土耳其 事要 认真对待 开除 细心 酒店</td>\n",
       "    </tr>\n",
       "    <tr>\n",
       "      <th>2</th>\n",
       "      <td>1</td>\n",
       "      <td>姑娘 羡慕 招财猫 学徒 一枚 明天 大佬 范儿</td>\n",
       "    </tr>\n",
       "    <tr>\n",
       "      <th>3</th>\n",
       "      <td>1</td>\n",
       "      <td>美</td>\n",
       "    </tr>\n",
       "    <tr>\n",
       "      <th>4</th>\n",
       "      <td>1</td>\n",
       "      <td>梦想 舞台</td>\n",
       "    </tr>\n",
       "    <tr>\n",
       "      <th>...</th>\n",
       "      <td>...</td>\n",
       "      <td>...</td>\n",
       "    </tr>\n",
       "    <tr>\n",
       "      <th>113649</th>\n",
       "      <td>0</td>\n",
       "      <td>公里 不到 县 医院 天桥 下右 拐 米 太 霸道 远 点 真心 找 吃 下次 记到 吃</td>\n",
       "    </tr>\n",
       "    <tr>\n",
       "      <th>113650</th>\n",
       "      <td>0</td>\n",
       "      <td>真冷 穿 棉袄 春天 真的 百变 莫测</td>\n",
       "    </tr>\n",
       "    <tr>\n",
       "      <th>113651</th>\n",
       "      <td>0</td>\n",
       "      <td>几天 停止</td>\n",
       "    </tr>\n",
       "    <tr>\n",
       "      <th>113652</th>\n",
       "      <td>0</td>\n",
       "      <td>很惨</td>\n",
       "    </tr>\n",
       "    <tr>\n",
       "      <th>113653</th>\n",
       "      <td>0</td>\n",
       "      <td>搞 乜 鬼 想知 入去 gotrip 睇 睇</td>\n",
       "    </tr>\n",
       "  </tbody>\n",
       "</table>\n",
       "<p>113654 rows × 2 columns</p>\n",
       "</div>"
      ],
      "text/plain": [
       "        label                                       cutword\n",
       "0           1                          更博 爆照 帅 越来越 爱 生快 傻 缺\n",
       "1           1                          土耳其 事要 认真对待 开除 细心 酒店\n",
       "2           1                      姑娘 羡慕 招财猫 学徒 一枚 明天 大佬 范儿\n",
       "3           1                                             美\n",
       "4           1                                         梦想 舞台\n",
       "...       ...                                           ...\n",
       "113649      0  公里 不到 县 医院 天桥 下右 拐 米 太 霸道 远 点 真心 找 吃 下次 记到 吃\n",
       "113650      0                           真冷 穿 棉袄 春天 真的 百变 莫测\n",
       "113651      0                                         几天 停止\n",
       "113652      0                                            很惨\n",
       "113653      0                        搞 乜 鬼 想知 入去 gotrip 睇 睇\n",
       "\n",
       "[113654 rows x 2 columns]"
      ]
     },
     "execution_count": 4,
     "metadata": {},
     "output_type": "execute_result"
    }
   ],
   "source": [
    "df"
   ]
  },
  {
   "cell_type": "code",
   "execution_count": 5,
   "id": "c5e6a236",
   "metadata": {},
   "outputs": [
    {
     "data": {
      "image/png": "[encoded data removed]",
      "text/plain": [
       "<Figure size 640x480 with 1 Axes>"
      ]
     },
     "metadata": {},
     "output_type": "display_data"
    }
   ],
   "source": [
    "#绘制情感极性数量饼图\n",
    "df.label.value_counts().plot(kind = 'pie', autopct='%1.1f%%')\n",
    "plt.show()"
   ]
  },
  {
   "cell_type": "code",
   "execution_count": 6,
   "id": "ba013d88",
   "metadata": {},
   "outputs": [
    {
     "name": "stdout",
     "output_type": "stream",
     "text": [
      "(113654, 2)\n"
     ]
    }
   ],
   "source": [
    "print(df.shape)"
   ]
  },
  {
   "cell_type": "code",
   "execution_count": 7,
   "id": "2563ebec",
   "metadata": {},
   "outputs": [
    {
     "name": "stdout",
     "output_type": "stream",
     "text": [
      "       cutword\n",
      "label         \n",
      "0        56228\n",
      "1        57426\n"
     ]
    }
   ],
   "source": [
    "print(df.groupby(\"label\").count())"
   ]
  },
  {
   "cell_type": "code",
   "execution_count": 8,
   "id": "8e4ccaf5",
   "metadata": {},
   "outputs": [
    {
     "data": {
      "image/png": "[encoded data removed]",
      "text/plain": [
       "<Figure size 640x480 with 1 Axes>"
      ]
     },
     "metadata": {},
     "output_type": "display_data"
    }
   ],
   "source": [
    "#绘制情感极性数量条形图\n",
    "#fig = plt.figure()\n",
    "df.groupby('label').cutword.count().plot.bar(facecolor='xkcd:sky blue')\n",
    "# 显示横轴标签\n",
    "plt.xlabel(\"情感极性标签\", fontproperties=fonts)\n",
    "# 显示纵轴标签\n",
    "plt.ylabel(\"评论数\", fontproperties=fonts)\n",
    "# 显示图标题\n",
    "plt.title(\"情感极性分布情况\", fontproperties=fonts)\n",
    "plt.show()"
   ]
  },
  {
   "cell_type": "code",
   "execution_count": 9,
   "id": "ec3a5dde",
   "metadata": {},
   "outputs": [
    {
     "data": {
      "text/html": [
       "<div>\n",
       "<style scoped>\n",
       "    .dataframe tbody tr th:only-of-type {\n",
       "        vertical-align: middle;\n",
       "    }\n",
       "\n",
       "    .dataframe tbody tr th {\n",
       "        vertical-align: top;\n",
       "    }\n",
       "\n",
       "    .dataframe thead th {\n",
       "        text-align: right;\n",
       "    }\n",
       "</style>\n",
       "<table border=\"1\" class=\"dataframe\">\n",
       "  <thead>\n",
       "    <tr style=\"text-align: right;\">\n",
       "      <th></th>\n",
       "      <th>label</th>\n",
       "      <th>cutword</th>\n",
       "    </tr>\n",
       "  </thead>\n",
       "  <tbody>\n",
       "    <tr>\n",
       "      <th>10102</th>\n",
       "      <td>1</td>\n",
       "      <td>一流 教学 环境 一流 老师 值得 期待 爱 风光 摄影 报名 真的 快速 提升 证人</td>\n",
       "    </tr>\n",
       "    <tr>\n",
       "      <th>83911</th>\n",
       "      <td>0</td>\n",
       "      <td>天道酬勤 衷心 祝贺 太 感人</td>\n",
       "    </tr>\n",
       "    <tr>\n",
       "      <th>36890</th>\n",
       "      <td>1</td>\n",
       "      <td>一盏 阿胶 扶元 固本 享 太平 收到 山东 特产 开森 谢谢 小伙伴 收到</td>\n",
       "    </tr>\n",
       "    <tr>\n",
       "      <th>97999</th>\n",
       "      <td>0</td>\n",
       "      <td>看着 好吃 北京 开店</td>\n",
       "    </tr>\n",
       "    <tr>\n",
       "      <th>20103</th>\n",
       "      <td>1</td>\n",
       "      <td>花 名 丛生 福禄考</td>\n",
       "    </tr>\n",
       "    <tr>\n",
       "      <th>53834</th>\n",
       "      <td>1</td>\n",
       "      <td>美的 帅 不错 哥 几个 领导人 拍得 漂亮</td>\n",
       "    </tr>\n",
       "    <tr>\n",
       "      <th>25495</th>\n",
       "      <td>1</td>\n",
       "      <td>下一阶段 治疗 打气 胜利</td>\n",
       "    </tr>\n",
       "    <tr>\n",
       "      <th>21132</th>\n",
       "      <td>1</td>\n",
       "      <td>a kiss 狮子 太 兴奋 easy 加州 allstar</td>\n",
       "    </tr>\n",
       "    <tr>\n",
       "      <th>86996</th>\n",
       "      <td>0</td>\n",
       "      <td>皿 裂头 蚴 刚学过 曼氏 迭宫 绦虫 幼虫 青蛙 宿主 寄生 青蛙 肌肉 中 看过 标本 ...</td>\n",
       "    </tr>\n",
       "    <tr>\n",
       "      <th>26702</th>\n",
       "      <td>1</td>\n",
       "      <td>曲子 揭晓</td>\n",
       "    </tr>\n",
       "    <tr>\n",
       "      <th>50781</th>\n",
       "      <td>1</td>\n",
       "      <td>倒数 第二张 太 搞笑 这组 照片 中 第一张 女 汉子 女 大爷 象</td>\n",
       "    </tr>\n",
       "    <tr>\n",
       "      <th>79021</th>\n",
       "      <td>0</td>\n",
       "      <td>终于 关机 舱门 飞 吾 牛 满面</td>\n",
       "    </tr>\n",
       "    <tr>\n",
       "      <th>96870</th>\n",
       "      <td>0</td>\n",
       "      <td>晕 后海 说 好吃 客满 wifi 只能 两个 小时 希望 超级 好吃</td>\n",
       "    </tr>\n",
       "    <tr>\n",
       "      <th>19473</th>\n",
       "      <td>1</td>\n",
       "      <td>不上 医院 打针 吃药 省心 省事 省 费用 喝 效果 看得见 喝本 公司 奇种 野茶 远离...</td>\n",
       "    </tr>\n",
       "    <tr>\n",
       "      <th>44772</th>\n",
       "      <td>1</td>\n",
       "      <td>哎呀呀 太高兴 期待 沙巴 游 亲们 中勒</td>\n",
       "    </tr>\n",
       "    <tr>\n",
       "      <th>113099</th>\n",
       "      <td>0</td>\n",
       "      <td>吐槽 傲娇 想起 找 京城 三部曲 签名版 每次 喝酒 冯唐 谱 带来 不靠 谱 送给 在座...</td>\n",
       "    </tr>\n",
       "    <tr>\n",
       "      <th>31646</th>\n",
       "      <td>1</td>\n",
       "      <td>姐们儿 火 真让人 语</td>\n",
       "    </tr>\n",
       "    <tr>\n",
       "      <th>88519</th>\n",
       "      <td>0</td>\n",
       "      <td>觉 小数点 错</td>\n",
       "    </tr>\n",
       "    <tr>\n",
       "      <th>78063</th>\n",
       "      <td>0</td>\n",
       "      <td>周一 刚刚 结束 欧洲杯 周一 干热 暴晒 周一 亲们 多喝水 防暑降温</td>\n",
       "    </tr>\n",
       "    <tr>\n",
       "      <th>37260</th>\n",
       "      <td>1</td>\n",
       "      <td>时间 尝尝 买一送一 够 便宜</td>\n",
       "    </tr>\n",
       "  </tbody>\n",
       "</table>\n",
       "</div>"
      ],
      "text/plain": [
       "        label                                            cutword\n",
       "10102       1        一流 教学 环境 一流 老师 值得 期待 爱 风光 摄影 报名 真的 快速 提升 证人\n",
       "83911       0                                    天道酬勤 衷心 祝贺 太 感人\n",
       "36890       1             一盏 阿胶 扶元 固本 享 太平 收到 山东 特产 开森 谢谢 小伙伴 收到\n",
       "97999       0                                        看着 好吃 北京 开店\n",
       "20103       1                                         花 名 丛生 福禄考\n",
       "53834       1                             美的 帅 不错 哥 几个 领导人 拍得 漂亮\n",
       "25495       1                                      下一阶段 治疗 打气 胜利\n",
       "21132       1                     a kiss 狮子 太 兴奋 easy 加州 allstar\n",
       "86996       0  皿 裂头 蚴 刚学过 曼氏 迭宫 绦虫 幼虫 青蛙 宿主 寄生 青蛙 肌肉 中 看过 标本 ...\n",
       "26702       1                                              曲子 揭晓\n",
       "50781       1                倒数 第二张 太 搞笑 这组 照片 中 第一张 女 汉子 女 大爷 象\n",
       "79021       0                                  终于 关机 舱门 飞 吾 牛 满面\n",
       "96870       0                晕 后海 说 好吃 客满 wifi 只能 两个 小时 希望 超级 好吃\n",
       "19473       1  不上 医院 打针 吃药 省心 省事 省 费用 喝 效果 看得见 喝本 公司 奇种 野茶 远离...\n",
       "44772       1                              哎呀呀 太高兴 期待 沙巴 游 亲们 中勒\n",
       "113099      0  吐槽 傲娇 想起 找 京城 三部曲 签名版 每次 喝酒 冯唐 谱 带来 不靠 谱 送给 在座...\n",
       "31646       1                                        姐们儿 火 真让人 语\n",
       "88519       0                                            觉 小数点 错\n",
       "78063       0               周一 刚刚 结束 欧洲杯 周一 干热 暴晒 周一 亲们 多喝水 防暑降温\n",
       "37260       1                                    时间 尝尝 买一送一 够 便宜"
      ]
     },
     "execution_count": 9,
     "metadata": {},
     "output_type": "execute_result"
    }
   ],
   "source": [
    "df.sample(20)"
   ]
  },
  {
   "cell_type": "code",
   "execution_count": 10,
   "id": "ec8bd727",
   "metadata": {},
   "outputs": [
    {
     "data": {
      "image/png": "[encoded data removed]",
      "text/plain": [
       "<Figure size 640x480 with 1 Axes>"
      ]
     },
     "metadata": {},
     "output_type": "display_data"
    }
   ],
   "source": [
    "#定义词数统计函数\n",
    "def wcount(text):\n",
    "    return len(text.split())\n",
    "\n",
    "x = df['cutword'].map(wcount)\n",
    "#绘制评论词数统计直方图\n",
    "plt.hist(x, bins=24, facecolor='xkcd:leaf green', alpha=0.75)\n",
    "# 显示横轴标签\n",
    "plt.xlabel(\"词数\", fontproperties=fonts)\n",
    "# 显示纵轴标签\n",
    "plt.ylabel(\"评论数\", fontproperties=fonts)\n",
    "# 显示图标题\n",
    "plt.title(\"词数分布情况\", fontproperties=fonts)\n",
    "plt.show()"
   ]
  }
 ],
 "metadata": {
  "kernelspec": {
   "display_name": "pytorch",
   "language": "python",
   "name": "pytorch"
  },
  "language_info": {
   "codemirror_mode": {
    "name": "ipython",
    "version": 3
   },
   "file_extension": ".py",
   "mimetype": "text/x-python",
   "name": "python",
   "nbconvert_exporter": "python",
   "pygments_lexer": "ipython3",
   "version": "3.9.15"
  }
 },
 "nbformat": 4,
 "nbformat_minor": 5
}
