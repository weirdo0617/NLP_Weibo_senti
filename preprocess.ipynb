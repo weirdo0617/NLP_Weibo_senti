{
 "cells": [
  {
   "cell_type": "code",
   "execution_count": 1,
   "id": "6cdda7c3",
   "metadata": {},
   "outputs": [],
   "source": [
    "#导入所需要的模块\n",
    "import numpy as np\n",
    "import pandas as pd\n",
    "import re #用于特殊符号清洗（正则表达式）\n",
    "import string #处理字符\n",
    "import opencc #用于繁体字简化\n",
    "import jieba #用于中文分词"
   ]
  },
  {
   "cell_type": "code",
   "execution_count": 2,
   "id": "5e0d2b02",
   "metadata": {},
   "outputs": [
    {
     "data": {
      "text/html": [
       "<div>\n",
       "<style scoped>\n",
       "    .dataframe tbody tr th:only-of-type {\n",
       "        vertical-align: middle;\n",
       "    }\n",
       "\n",
       "    .dataframe tbody tr th {\n",
       "        vertical-align: top;\n",
       "    }\n",
       "\n",
       "    .dataframe thead th {\n",
       "        text-align: right;\n",
       "    }\n",
       "</style>\n",
       "<table border=\"1\" class=\"dataframe\">\n",
       "  <thead>\n",
       "    <tr style=\"text-align: right;\">\n",
       "      <th></th>\n",
       "      <th>label</th>\n",
       "      <th>review</th>\n",
       "    </tr>\n",
       "  </thead>\n",
       "  <tbody>\n",
       "    <tr>\n",
       "      <th>0</th>\n",
       "      <td>1</td>\n",
       "      <td>﻿更博了，爆照了，帅的呀，就是越来越爱你！生快傻缺[爱你][爱你][爱你]</td>\n",
       "    </tr>\n",
       "    <tr>\n",
       "      <th>1</th>\n",
       "      <td>1</td>\n",
       "      <td>@张晓鹏jonathan 土耳其的事要认真对待[哈哈]，否则直接开除。@丁丁看世界 很是细心...</td>\n",
       "    </tr>\n",
       "    <tr>\n",
       "      <th>2</th>\n",
       "      <td>1</td>\n",
       "      <td>姑娘都羡慕你呢…还有招财猫高兴……//@爱在蔓延-JC:[哈哈]小学徒一枚，等着明天见您呢/...</td>\n",
       "    </tr>\n",
       "    <tr>\n",
       "      <th>3</th>\n",
       "      <td>1</td>\n",
       "      <td>美~~~~~[爱你]</td>\n",
       "    </tr>\n",
       "    <tr>\n",
       "      <th>4</th>\n",
       "      <td>1</td>\n",
       "      <td>梦想有多大，舞台就有多大![鼓掌]</td>\n",
       "    </tr>\n",
       "    <tr>\n",
       "      <th>...</th>\n",
       "      <td>...</td>\n",
       "      <td>...</td>\n",
       "    </tr>\n",
       "    <tr>\n",
       "      <th>119983</th>\n",
       "      <td>0</td>\n",
       "      <td>一公里不到，县医院那个天桥下右拐200米就到了！//@谢礼恒: 我靠。这个太霸道了！离224...</td>\n",
       "    </tr>\n",
       "    <tr>\n",
       "      <th>119984</th>\n",
       "      <td>0</td>\n",
       "      <td>今天真冷啊，难道又要穿棉袄了[晕]？今年的春天真的是百变莫测啊[抓狂]</td>\n",
       "    </tr>\n",
       "    <tr>\n",
       "      <th>119985</th>\n",
       "      <td>0</td>\n",
       "      <td>最近几天就没停止过！！！[伤心]</td>\n",
       "    </tr>\n",
       "    <tr>\n",
       "      <th>119986</th>\n",
       "      <td>0</td>\n",
       "      <td>//@毒药女流氓:[怒] 很惨!</td>\n",
       "    </tr>\n",
       "    <tr>\n",
       "      <th>119987</th>\n",
       "      <td>0</td>\n",
       "      <td>呢??@杰?Kelena ？！[抓狂] ?搞乜鬼？？！！想知？入去GOtrip睇睇： htt...</td>\n",
       "    </tr>\n",
       "  </tbody>\n",
       "</table>\n",
       "<p>119988 rows × 2 columns</p>\n",
       "</div>"
      ],
      "text/plain": [
       "        label                                             review\n",
       "0           1              ﻿更博了，爆照了，帅的呀，就是越来越爱你！生快傻缺[爱你][爱你][爱你]\n",
       "1           1  @张晓鹏jonathan 土耳其的事要认真对待[哈哈]，否则直接开除。@丁丁看世界 很是细心...\n",
       "2           1  姑娘都羡慕你呢…还有招财猫高兴……//@爱在蔓延-JC:[哈哈]小学徒一枚，等着明天见您呢/...\n",
       "3           1                                         美~~~~~[爱你]\n",
       "4           1                                  梦想有多大，舞台就有多大![鼓掌]\n",
       "...       ...                                                ...\n",
       "119983      0  一公里不到，县医院那个天桥下右拐200米就到了！//@谢礼恒: 我靠。这个太霸道了！离224...\n",
       "119984      0                今天真冷啊，难道又要穿棉袄了[晕]？今年的春天真的是百变莫测啊[抓狂]\n",
       "119985      0                                   最近几天就没停止过！！！[伤心]\n",
       "119986      0                                   //@毒药女流氓:[怒] 很惨!\n",
       "119987      0  呢??@杰?Kelena ？！[抓狂] ?搞乜鬼？？！！想知？入去GOtrip睇睇： htt...\n",
       "\n",
       "[119988 rows x 2 columns]"
      ]
     },
     "execution_count": 2,
     "metadata": {},
     "output_type": "execute_result"
    }
   ],
   "source": [
    "#导入数据集\n",
    "df = pd.read_csv(\"datasets/weibo_senti_100k.csv\")\n",
    "#查看数据集\n",
    "df"
   ]
  },
  {
   "cell_type": "code",
   "execution_count": 3,
   "id": "c5cf8e94",
   "metadata": {},
   "outputs": [
    {
     "data": {
      "text/html": [
       "<div>\n",
       "<style scoped>\n",
       "    .dataframe tbody tr th:only-of-type {\n",
       "        vertical-align: middle;\n",
       "    }\n",
       "\n",
       "    .dataframe tbody tr th {\n",
       "        vertical-align: top;\n",
       "    }\n",
       "\n",
       "    .dataframe thead th {\n",
       "        text-align: right;\n",
       "    }\n",
       "</style>\n",
       "<table border=\"1\" class=\"dataframe\">\n",
       "  <thead>\n",
       "    <tr style=\"text-align: right;\">\n",
       "      <th></th>\n",
       "      <th>label</th>\n",
       "      <th>review</th>\n",
       "    </tr>\n",
       "  </thead>\n",
       "  <tbody>\n",
       "    <tr>\n",
       "      <th>103009</th>\n",
       "      <td>0</td>\n",
       "      <td>[吃惊][怒]神马世道！妇女儿童请保护自己，小心，小心！//@幸福育儿圣经: 大家要小心！[...</td>\n",
       "    </tr>\n",
       "    <tr>\n",
       "      <th>71517</th>\n",
       "      <td>0</td>\n",
       "      <td>好看的餐桌，我家什么时候才能有？！[泪]身不由己啊！</td>\n",
       "    </tr>\n",
       "    <tr>\n",
       "      <th>28186</th>\n",
       "      <td>1</td>\n",
       "      <td>真的好坏，抢作业本，哈哈//@姚晨：坏蛋好坏啊！[嘻嘻]</td>\n",
       "    </tr>\n",
       "    <tr>\n",
       "      <th>37022</th>\n",
       "      <td>1</td>\n",
       "      <td>//@宁波慈城古县城:[哈哈][话筒]</td>\n",
       "    </tr>\n",
       "    <tr>\n",
       "      <th>1727</th>\n",
       "      <td>1</td>\n",
       "      <td>[哈哈][哈哈] //@小summerkeno:转发微博</td>\n",
       "    </tr>\n",
       "  </tbody>\n",
       "</table>\n",
       "</div>"
      ],
      "text/plain": [
       "        label                                             review\n",
       "103009      0  [吃惊][怒]神马世道！妇女儿童请保护自己，小心，小心！//@幸福育儿圣经: 大家要小心！[...\n",
       "71517       0                         好看的餐桌，我家什么时候才能有？！[泪]身不由己啊！\n",
       "28186       1                       真的好坏，抢作业本，哈哈//@姚晨：坏蛋好坏啊！[嘻嘻]\n",
       "37022       1                                //@宁波慈城古县城:[哈哈][话筒]\n",
       "1727        1                       [哈哈][哈哈] //@小summerkeno:转发微博"
      ]
     },
     "execution_count": 3,
     "metadata": {},
     "output_type": "execute_result"
    }
   ],
   "source": [
    "#随机查看5条数据\n",
    "df.sample(5)"
   ]
  },
  {
   "cell_type": "code",
   "execution_count": 4,
   "id": "ce1cdb54",
   "metadata": {},
   "outputs": [
    {
     "name": "stdout",
     "output_type": "stream",
     "text": [
      "<class 'pandas.core.frame.DataFrame'>\n",
      "RangeIndex: 119988 entries, 0 to 119987\n",
      "Data columns (total 2 columns):\n",
      " #   Column  Non-Null Count   Dtype \n",
      "---  ------  --------------   ----- \n",
      " 0   label   119988 non-null  int64 \n",
      " 1   review  119988 non-null  object\n",
      "dtypes: int64(1), object(1)\n",
      "memory usage: 1.8+ MB\n"
     ]
    }
   ],
   "source": [
    "#查看数据集简要信息\n",
    "df.info()"
   ]
  },
  {
   "cell_type": "code",
   "execution_count": 5,
   "id": "4fd57bda",
   "metadata": {},
   "outputs": [
    {
     "data": {
      "text/plain": [
       "label     0\n",
       "review    0\n",
       "dtype: int64"
      ]
     },
     "execution_count": 5,
     "metadata": {},
     "output_type": "execute_result"
    }
   ],
   "source": [
    "#数据预处理\n",
    "#检查是否存在缺失值\n",
    "df.isna().sum()"
   ]
  },
  {
   "cell_type": "code",
   "execution_count": 6,
   "id": "d15b4d14",
   "metadata": {},
   "outputs": [
    {
     "data": {
      "text/plain": [
       "1534"
      ]
     },
     "execution_count": 6,
     "metadata": {},
     "output_type": "execute_result"
    }
   ],
   "source": [
    "#检查是否存在重复值（review列）\n",
    "df['review'].duplicated().sum()"
   ]
  },
  {
   "cell_type": "code",
   "execution_count": 7,
   "id": "9408efdf",
   "metadata": {},
   "outputs": [],
   "source": [
    "#删除重复值\n",
    "df = df.drop_duplicates(subset='review')"
   ]
  },
  {
   "cell_type": "code",
   "execution_count": 8,
   "id": "ad9b2647",
   "metadata": {},
   "outputs": [
    {
     "data": {
      "text/plain": [
       "(118454, 2)"
      ]
     },
     "execution_count": 8,
     "metadata": {},
     "output_type": "execute_result"
    }
   ],
   "source": [
    "#查看数据集形状\n",
    "df.shape"
   ]
  },
  {
   "cell_type": "code",
   "execution_count": 9,
   "id": "880d110e",
   "metadata": {},
   "outputs": [
    {
     "name": "stdout",
     "output_type": "stream",
     "text": [
      "评论数目（总体）：118454\n",
      "评论数目（正向）：59993\n",
      "评论数目（负向）：58461\n"
     ]
    }
   ],
   "source": [
    "#查看情感极性分布情况(0-负向；1-正向)\n",
    "print('评论数目（总体）：%d' % df.shape[0])\n",
    "print('评论数目（正向）：%d' % df[df.label==1].shape[0])\n",
    "print('评论数目（负向）：%d' % df[df.label==0].shape[0])"
   ]
  },
  {
   "cell_type": "code",
   "execution_count": 10,
   "id": "4a584caa",
   "metadata": {},
   "outputs": [],
   "source": [
    "#中文文本预处理\n",
    "#加载停用词表\n",
    "stop_words = open('datasets/stopwords.txt',encoding='utf-8').readlines()\n",
    "stop_words = [line.strip() for line in stop_words] #去掉换行符\n",
    "#增加停用词\n",
    "stop_words.append(\"转发微博\")\n",
    "stop_words.append(\"微博\")\n",
    "stop_words.append(\"转发\")\n",
    "stop_words.append(\"回复\")\n",
    "#防止被strip过滤掉\n",
    "stop_words.append(\" \") \n",
    "stop_words.append(\"\\n\")"
   ]
  },
  {
   "cell_type": "code",
   "execution_count": 11,
   "id": "db81dfd1",
   "metadata": {},
   "outputs": [],
   "source": [
    "#定义中文文本预处理函数\n",
    "def chinese_pre(text):\n",
    "    ##（1）清洗特殊符号\n",
    "    # 去除正文中的@和回复/转发中的用户名\n",
    "    text = re.sub(r\"(//)?\\s*@\\S*?\\s*(:| |$)\", \" \", text)  \n",
    "    # 去除表情符号（[表情符号文本]）\n",
    "    text = re.sub(r\"\\[.*?\\]\", \"\", text) \n",
    "    # 去除网址\n",
    "    URL_REGEX = re.compile(\n",
    "        r'(?i)\\b((?:https?://|www\\d{0,3}[.]|[a-z0-9.\\-]+[.][a-z]{2,4}/)(?:[^\\s()<>]+|\\(([^\\s()<>]+|(\\([^\\s()<>]+\\)))*\\))*(?:\\(([^\\s()<>]+|(\\([^\\s()<>]+\\)))*\\)|[^\\s`!()\\[\\]{};:\\'\".,<>?«»“”‘’])*)',\n",
    "        re.IGNORECASE)\n",
    "    text = re.sub(URL_REGEX, \" \", text) \n",
    "    #去除非汉字和字母的字符\n",
    "    text = re.sub(r\"[^\\u4e00-\\u9fa5a-zA-Z]+\", \" \", text)\n",
    "     # 合并过多无意义的空格\n",
    "    text = re.sub(r\"\\s+\", \" \", text)\n",
    "    #（2）字母小写\n",
    "    text = text.lower()\n",
    "    #（3）繁体字简化\n",
    "    text = opencc.OpenCC('t2s').convert(text)\n",
    "    #（4）jieba中文分词\n",
    "    text = list(jieba.cut(text))\n",
    "    #（5）去停用词\n",
    "    text = [word.strip() for word in text if word not in stop_words]\n",
    "    #处理后的分词用空格连接为字符串\n",
    "    text = ' '.join(text)\n",
    "    return text"
   ]
  },
  {
   "cell_type": "code",
   "execution_count": 12,
   "id": "97467115",
   "metadata": {},
   "outputs": [
    {
     "name": "stderr",
     "output_type": "stream",
     "text": [
      "Building prefix dict from the default dictionary ...\n",
      "Loading model from cache C:\\Users\\18417\\AppData\\Local\\Temp\\jieba.cache\n",
      "Loading model cost 0.331 seconds.\n",
      "Prefix dict has been built successfully.\n",
      "C:\\Users\\18417\\AppData\\Local\\Temp\\ipykernel_20340\\4078211516.py:2: SettingWithCopyWarning: \n",
      "A value is trying to be set on a copy of a slice from a DataFrame.\n",
      "Try using .loc[row_indexer,col_indexer] = value instead\n",
      "\n",
      "See the caveats in the documentation: https://pandas.pydata.org/pandas-docs/stable/user_guide/indexing.html#returning-a-view-versus-a-copy\n",
      "  df['cutword'] = df.review.map(lambda x:chinese_pre(x))\n"
     ]
    }
   ],
   "source": [
    "#对微博评论文本应用中文文本预处理函数\n",
    "df['cutword'] = df.review.map(lambda x:chinese_pre(x))"
   ]
  },
  {
   "cell_type": "code",
   "execution_count": 13,
   "id": "8d8d2e1a",
   "metadata": {},
   "outputs": [
    {
     "data": {
      "text/plain": [
       "4800"
      ]
     },
     "execution_count": 13,
     "metadata": {},
     "output_type": "execute_result"
    }
   ],
   "source": [
    "#查看分词结果是否存在缺失值（空字符串）\n",
    "df.cutword.isin(['']).sum()"
   ]
  },
  {
   "cell_type": "code",
   "execution_count": 14,
   "id": "8765984a",
   "metadata": {},
   "outputs": [
    {
     "data": {
      "text/plain": [
       "(113654, 3)"
      ]
     },
     "execution_count": 14,
     "metadata": {},
     "output_type": "execute_result"
    }
   ],
   "source": [
    "#缺失值处理——删除cutword为空字符串的行\n",
    "df = df[~df.cutword.isin([''])]\n",
    "df.shape"
   ]
  },
  {
   "cell_type": "code",
   "execution_count": 15,
   "id": "7c3e29ef",
   "metadata": {},
   "outputs": [
    {
     "data": {
      "text/plain": [
       "0                                 更博 爆照 帅 越来越 爱 生快 傻 缺\n",
       "1                                 土耳其 事要 认真对待 开除 细心 酒店\n",
       "2                             姑娘 羡慕 招财猫 学徒 一枚 明天 大佬 范儿\n",
       "3                                                    美\n",
       "4                                                梦想 舞台\n",
       "                              ...                     \n",
       "119983    公里 不到 县 医院 天桥 下右 拐 米 太 霸道 远 点 真心 找 吃 下次 记到 吃\n",
       "119984                             真冷 穿 棉袄 春天 真的 百变 莫测\n",
       "119985                                           几天 停止\n",
       "119986                                              很惨\n",
       "119987                          搞 乜 鬼 想知 入去 gotrip 睇 睇\n",
       "Name: cutword, Length: 113654, dtype: object"
      ]
     },
     "execution_count": 15,
     "metadata": {},
     "output_type": "execute_result"
    }
   ],
   "source": [
    "df['cutword']"
   ]
  },
  {
   "cell_type": "code",
   "execution_count": 16,
   "id": "bcb36ce6",
   "metadata": {},
   "outputs": [],
   "source": [
    "#将预处理后的结果保存为新文件\n",
    "df[[\"label\",\"cutword\"]].to_csv(\"datasets/label_cutword.csv\", index=False)"
   ]
  },
  {
   "cell_type": "code",
   "execution_count": 17,
   "id": "2679bbca",
   "metadata": {},
   "outputs": [
    {
     "name": "stdout",
     "output_type": "stream",
     "text": [
      "评论数目（总体）：113654\n",
      "评论数目（正向）：57426\n",
      "评论数目（负向）：56228\n"
     ]
    }
   ],
   "source": [
    "#查看情感极性分布情况(0-负向；1-正向)\n",
    "print('评论数目（总体）：%d' % df.shape[0])\n",
    "print('评论数目（正向）：%d' % df[df.label==1].shape[0])\n",
    "print('评论数目（负向）：%d' % df[df.label==0].shape[0])"
   ]
  }
 ],
 "metadata": {
  "kernelspec": {
   "display_name": "pytorch",
   "language": "python",
   "name": "pytorch"
  },
  "language_info": {
   "codemirror_mode": {
    "name": "ipython",
    "version": 3
   },
   "file_extension": ".py",
   "mimetype": "text/x-python",
   "name": "python",
   "nbconvert_exporter": "python",
   "pygments_lexer": "ipython3",
   "version": "3.9.15"
  }
 },
 "nbformat": 4,
 "nbformat_minor": 5
}
