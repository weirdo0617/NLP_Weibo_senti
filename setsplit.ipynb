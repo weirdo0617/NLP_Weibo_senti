{
 "cells": [
  {
   "cell_type": "code",
   "execution_count": 1,
   "id": "16692d7a",
   "metadata": {},
   "outputs": [],
   "source": [
    "#导入所需要的模块\n",
    "import pandas as pd\n",
    "import random"
   ]
  },
  {
   "cell_type": "code",
   "execution_count": 2,
   "id": "eb81ed2f",
   "metadata": {},
   "outputs": [],
   "source": [
    "#将数据集划分为训练集train_dataset、验证集val_dataset、测试集test_dataset\n",
    "# 导入数据集\n",
    "df = pd.read_csv(\"datasets/label_cutword.csv\")\n",
    "\n",
    "# 设置划分比例为6:2:2\n",
    "train_len = int(len(df) * 0.6)\n",
    "test_len = int(len(df) * 0.2)\n",
    "\n",
    "# 划分数据集split the dataframe\n",
    "idx = list(df.index)\n",
    "random.shuffle(idx)  # 将index列表打乱\n",
    "df_train = df.loc[idx[:train_len]]\n",
    "df_test = df.loc[idx[train_len:train_len+test_len]]\n",
    "df_valid = df.loc[idx[train_len+test_len:]]  # 剩下的就是valid"
   ]
  },
  {
   "cell_type": "code",
   "execution_count": 4,
   "id": "fe54321a",
   "metadata": {},
   "outputs": [
    {
     "name": "stdout",
     "output_type": "stream",
     "text": [
      "68192 22732 22730\n"
     ]
    }
   ],
   "source": [
    "print(len(df_train), len(df_valid), len(df_test))"
   ]
  },
  {
   "cell_type": "code",
   "execution_count": 5,
   "id": "d4a66695",
   "metadata": {},
   "outputs": [],
   "source": [
    "# 保存数据集\n",
    "df_train.to_csv(\"datasets/train_set.csv\", index=False)\n",
    "df_test.to_csv(\"datasets/test_set.csv\", index=False)\n",
    "df_valid.to_csv(\"datasets/valid_set.csv\", index=False)"
   ]
  }
 ],
 "metadata": {
  "kernelspec": {
   "display_name": "Python 3 (ipykernel)",
   "language": "python",
   "name": "python3"
  },
  "language_info": {
   "codemirror_mode": {
    "name": "ipython",
    "version": 3
   },
   "file_extension": ".py",
   "mimetype": "text/x-python",
   "name": "python",
   "nbconvert_exporter": "python",
   "pygments_lexer": "ipython3",
   "version": "3.9.15"
  }
 },
 "nbformat": 4,
 "nbformat_minor": 5
}
